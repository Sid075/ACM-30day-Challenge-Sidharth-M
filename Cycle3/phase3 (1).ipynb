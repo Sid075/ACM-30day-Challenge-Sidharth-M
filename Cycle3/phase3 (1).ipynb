{
  "nbformat": 4,
  "nbformat_minor": 0,
  "metadata": {
    "colab": {
      "provenance": []
    },
    "kernelspec": {
      "name": "python3",
      "display_name": "Python 3"
    },
    "language_info": {
      "name": "python"
    }
  },
  "cells": [
    {
      "cell_type": "code",
      "execution_count": 1,
      "metadata": {
        "colab": {
          "base_uri": "https://localhost:8080/",
          "height": 74
        },
        "id": "aEcYgBy8CTz8",
        "outputId": "0821d283-7995-437d-d05e-802524e3b475"
      },
      "outputs": [
        {
          "output_type": "display_data",
          "data": {
            "text/plain": [
              "<IPython.core.display.HTML object>"
            ],
            "text/html": [
              "\n",
              "     <input type=\"file\" id=\"files-ac1cbb6c-db71-4dfa-b868-6a9330fec4e0\" name=\"files[]\" multiple disabled\n",
              "        style=\"border:none\" />\n",
              "     <output id=\"result-ac1cbb6c-db71-4dfa-b868-6a9330fec4e0\">\n",
              "      Upload widget is only available when the cell has been executed in the\n",
              "      current browser session. Please rerun this cell to enable.\n",
              "      </output>\n",
              "      <script>// Copyright 2017 Google LLC\n",
              "//\n",
              "// Licensed under the Apache License, Version 2.0 (the \"License\");\n",
              "// you may not use this file except in compliance with the License.\n",
              "// You may obtain a copy of the License at\n",
              "//\n",
              "//      http://www.apache.org/licenses/LICENSE-2.0\n",
              "//\n",
              "// Unless required by applicable law or agreed to in writing, software\n",
              "// distributed under the License is distributed on an \"AS IS\" BASIS,\n",
              "// WITHOUT WARRANTIES OR CONDITIONS OF ANY KIND, either express or implied.\n",
              "// See the License for the specific language governing permissions and\n",
              "// limitations under the License.\n",
              "\n",
              "/**\n",
              " * @fileoverview Helpers for google.colab Python module.\n",
              " */\n",
              "(function(scope) {\n",
              "function span(text, styleAttributes = {}) {\n",
              "  const element = document.createElement('span');\n",
              "  element.textContent = text;\n",
              "  for (const key of Object.keys(styleAttributes)) {\n",
              "    element.style[key] = styleAttributes[key];\n",
              "  }\n",
              "  return element;\n",
              "}\n",
              "\n",
              "// Max number of bytes which will be uploaded at a time.\n",
              "const MAX_PAYLOAD_SIZE = 100 * 1024;\n",
              "\n",
              "function _uploadFiles(inputId, outputId) {\n",
              "  const steps = uploadFilesStep(inputId, outputId);\n",
              "  const outputElement = document.getElementById(outputId);\n",
              "  // Cache steps on the outputElement to make it available for the next call\n",
              "  // to uploadFilesContinue from Python.\n",
              "  outputElement.steps = steps;\n",
              "\n",
              "  return _uploadFilesContinue(outputId);\n",
              "}\n",
              "\n",
              "// This is roughly an async generator (not supported in the browser yet),\n",
              "// where there are multiple asynchronous steps and the Python side is going\n",
              "// to poll for completion of each step.\n",
              "// This uses a Promise to block the python side on completion of each step,\n",
              "// then passes the result of the previous step as the input to the next step.\n",
              "function _uploadFilesContinue(outputId) {\n",
              "  const outputElement = document.getElementById(outputId);\n",
              "  const steps = outputElement.steps;\n",
              "\n",
              "  const next = steps.next(outputElement.lastPromiseValue);\n",
              "  return Promise.resolve(next.value.promise).then((value) => {\n",
              "    // Cache the last promise value to make it available to the next\n",
              "    // step of the generator.\n",
              "    outputElement.lastPromiseValue = value;\n",
              "    return next.value.response;\n",
              "  });\n",
              "}\n",
              "\n",
              "/**\n",
              " * Generator function which is called between each async step of the upload\n",
              " * process.\n",
              " * @param {string} inputId Element ID of the input file picker element.\n",
              " * @param {string} outputId Element ID of the output display.\n",
              " * @return {!Iterable<!Object>} Iterable of next steps.\n",
              " */\n",
              "function* uploadFilesStep(inputId, outputId) {\n",
              "  const inputElement = document.getElementById(inputId);\n",
              "  inputElement.disabled = false;\n",
              "\n",
              "  const outputElement = document.getElementById(outputId);\n",
              "  outputElement.innerHTML = '';\n",
              "\n",
              "  const pickedPromise = new Promise((resolve) => {\n",
              "    inputElement.addEventListener('change', (e) => {\n",
              "      resolve(e.target.files);\n",
              "    });\n",
              "  });\n",
              "\n",
              "  const cancel = document.createElement('button');\n",
              "  inputElement.parentElement.appendChild(cancel);\n",
              "  cancel.textContent = 'Cancel upload';\n",
              "  const cancelPromise = new Promise((resolve) => {\n",
              "    cancel.onclick = () => {\n",
              "      resolve(null);\n",
              "    };\n",
              "  });\n",
              "\n",
              "  // Wait for the user to pick the files.\n",
              "  const files = yield {\n",
              "    promise: Promise.race([pickedPromise, cancelPromise]),\n",
              "    response: {\n",
              "      action: 'starting',\n",
              "    }\n",
              "  };\n",
              "\n",
              "  cancel.remove();\n",
              "\n",
              "  // Disable the input element since further picks are not allowed.\n",
              "  inputElement.disabled = true;\n",
              "\n",
              "  if (!files) {\n",
              "    return {\n",
              "      response: {\n",
              "        action: 'complete',\n",
              "      }\n",
              "    };\n",
              "  }\n",
              "\n",
              "  for (const file of files) {\n",
              "    const li = document.createElement('li');\n",
              "    li.append(span(file.name, {fontWeight: 'bold'}));\n",
              "    li.append(span(\n",
              "        `(${file.type || 'n/a'}) - ${file.size} bytes, ` +\n",
              "        `last modified: ${\n",
              "            file.lastModifiedDate ? file.lastModifiedDate.toLocaleDateString() :\n",
              "                                    'n/a'} - `));\n",
              "    const percent = span('0% done');\n",
              "    li.appendChild(percent);\n",
              "\n",
              "    outputElement.appendChild(li);\n",
              "\n",
              "    const fileDataPromise = new Promise((resolve) => {\n",
              "      const reader = new FileReader();\n",
              "      reader.onload = (e) => {\n",
              "        resolve(e.target.result);\n",
              "      };\n",
              "      reader.readAsArrayBuffer(file);\n",
              "    });\n",
              "    // Wait for the data to be ready.\n",
              "    let fileData = yield {\n",
              "      promise: fileDataPromise,\n",
              "      response: {\n",
              "        action: 'continue',\n",
              "      }\n",
              "    };\n",
              "\n",
              "    // Use a chunked sending to avoid message size limits. See b/62115660.\n",
              "    let position = 0;\n",
              "    do {\n",
              "      const length = Math.min(fileData.byteLength - position, MAX_PAYLOAD_SIZE);\n",
              "      const chunk = new Uint8Array(fileData, position, length);\n",
              "      position += length;\n",
              "\n",
              "      const base64 = btoa(String.fromCharCode.apply(null, chunk));\n",
              "      yield {\n",
              "        response: {\n",
              "          action: 'append',\n",
              "          file: file.name,\n",
              "          data: base64,\n",
              "        },\n",
              "      };\n",
              "\n",
              "      let percentDone = fileData.byteLength === 0 ?\n",
              "          100 :\n",
              "          Math.round((position / fileData.byteLength) * 100);\n",
              "      percent.textContent = `${percentDone}% done`;\n",
              "\n",
              "    } while (position < fileData.byteLength);\n",
              "  }\n",
              "\n",
              "  // All done.\n",
              "  yield {\n",
              "    response: {\n",
              "      action: 'complete',\n",
              "    }\n",
              "  };\n",
              "}\n",
              "\n",
              "scope.google = scope.google || {};\n",
              "scope.google.colab = scope.google.colab || {};\n",
              "scope.google.colab._files = {\n",
              "  _uploadFiles,\n",
              "  _uploadFilesContinue,\n",
              "};\n",
              "})(self);\n",
              "</script> "
            ]
          },
          "metadata": {}
        },
        {
          "output_type": "stream",
          "name": "stdout",
          "text": [
            "Saving tweet_emotions.csv to tweet_emotions.csv\n"
          ]
        }
      ],
      "source": [
        "from google.colab import files\n",
        "uploaded = files.upload()"
      ]
    },
    {
      "cell_type": "code",
      "source": [
        "\n",
        "import pandas as pd\n",
        "import numpy as np\n",
        "import torch\n",
        "import torch.nn as nn\n",
        "import torch.optim as optim\n",
        "from torch.utils.data import Dataset, DataLoader\n",
        "from sklearn.model_selection import train_test_split\n",
        "from sklearn.metrics import accuracy_score, f1_score\n",
        "from sklearn.preprocessing import LabelEncoder\n",
        "from torch.nn.utils.rnn import pad_sequence\n",
        "import re\n",
        "from collections import Counter\n",
        "from tqdm import tqdm\n",
        "import random"
      ],
      "metadata": {
        "id": "rh_FOxMuDUsP"
      },
      "execution_count": 4,
      "outputs": []
    },
    {
      "cell_type": "code",
      "source": [
        "\n",
        "df = pd.read_csv('tweet_emotions.csv')"
      ],
      "metadata": {
        "id": "WdBeWE10Dfjb"
      },
      "execution_count": 5,
      "outputs": []
    },
    {
      "cell_type": "code",
      "source": [
        "print(df.head())\n",
        "print(df.columns)"
      ],
      "metadata": {
        "colab": {
          "base_uri": "https://localhost:8080/"
        },
        "id": "KnDZru5GDk8H",
        "outputId": "7f12ccbd-2cd1-4809-d43f-5ab4c80107c1"
      },
      "execution_count": 6,
      "outputs": [
        {
          "output_type": "stream",
          "name": "stdout",
          "text": [
            "     tweet_id   sentiment                                            content\n",
            "0  1956967341       empty  @tiffanylue i know  i was listenin to bad habi...\n",
            "1  1956967666     sadness  Layin n bed with a headache  ughhhh...waitin o...\n",
            "2  1956967696     sadness                Funeral ceremony...gloomy friday...\n",
            "3  1956967789  enthusiasm               wants to hang out with friends SOON!\n",
            "4  1956968416     neutral  @dannycastillo We want to trade with someone w...\n",
            "Index(['tweet_id', 'sentiment', 'content'], dtype='object')\n"
          ]
        }
      ]
    },
    {
      "cell_type": "code",
      "source": [
        "#Encode Target Labels\n",
        "le = LabelEncoder()\n",
        "df['emotion_label'] = le.fit_transform(df['sentiment'])\n",
        "num_classes = len(le.classes_)\n",
        "print(\"Emotion Classes:\", list(le.classes_))"
      ],
      "metadata": {
        "colab": {
          "base_uri": "https://localhost:8080/"
        },
        "id": "DsOLjJa8EMrp",
        "outputId": "522b7c42-5f1a-4d1e-b4ab-1ce024e15637"
      },
      "execution_count": 7,
      "outputs": [
        {
          "output_type": "stream",
          "name": "stdout",
          "text": [
            "Emotion Classes: ['anger', 'boredom', 'empty', 'enthusiasm', 'fun', 'happiness', 'hate', 'love', 'neutral', 'relief', 'sadness', 'surprise', 'worry']\n"
          ]
        }
      ]
    },
    {
      "cell_type": "code",
      "source": [
        "#Train/Test split\n",
        "train_df, test_df = train_test_split(df, test_size=0.2, stratify=df['emotion_label'], random_state=42)\n",
        "\n",
        "#Tokenization & Vocabulary\n",
        "def simple_tokenize(text):\n",
        "    return re.findall(r'\\b\\w+\\b', str(text).lower())"
      ],
      "metadata": {
        "id": "i_8oadBTEa7o"
      },
      "execution_count": 8,
      "outputs": []
    },
    {
      "cell_type": "code",
      "source": [
        "#Building vocab from training data\n",
        "counter = Counter()\n",
        "for text in train_df['content']:\n",
        "    counter.update(simple_tokenize(text))\n",
        "vocab = ['<PAD>', '<UNK>'] + [w for w, c in counter.items() if c >= 2]\n",
        "word2idx = {w: i for i, w in enumerate(vocab)}\n",
        "\n",
        "def encode(text):\n",
        "    return [word2idx.get(w, word2idx['<UNK>']) for w in simple_tokenize(text)]\n",
        "\n",
        "VOCAB_SIZE = len(word2idx)\n",
        "MAXLEN = 40  # tweets are short"
      ],
      "metadata": {
        "id": "qjie8ERLEeaF"
      },
      "execution_count": 9,
      "outputs": []
    },
    {
      "cell_type": "code",
      "source": [
        "#Pytorch Dataset & Dataloader\n",
        "class TextEmotionDataset(Dataset):\n",
        "    def __init__(self, df, word2idx, maxlen=40):\n",
        "        self.texts = df['content'].tolist()\n",
        "        self.labels = df['emotion_label'].tolist()\n",
        "        self.word2idx = word2idx\n",
        "        self.maxlen = maxlen\n",
        "    def __len__(self):\n",
        "        return len(self.texts)\n",
        "    def __getitem__(self, i):\n",
        "        ids = encode(self.texts[i])\n",
        "        if len(ids) > self.maxlen:\n",
        "            ids = ids[:self.maxlen]\n",
        "        return torch.tensor(ids, dtype=torch.long), torch.tensor(self.labels[i], dtype=torch.long)\n",
        "\n",
        "def collate_fn(batch):\n",
        "    texts, labels = zip(*batch)\n",
        "    lens = [len(x) for x in texts]\n",
        "    padded = pad_sequence(texts, batch_first=True, padding_value=0)\n",
        "    if padded.size(1) < MAXLEN:\n",
        "        pad = torch.zeros(padded.size(0), MAXLEN - padded.size(1), dtype=torch.long)\n",
        "        padded = torch.cat([padded, pad], dim=1)\n",
        "    elif padded.size(1) > MAXLEN:\n",
        "        padded = padded[:, :MAXLEN]\n",
        "    return padded, torch.tensor(labels)\n",
        "\n",
        "train_ds = TextEmotionDataset(train_df, word2idx, MAXLEN)\n",
        "test_ds = TextEmotionDataset(test_df, word2idx, MAXLEN)\n",
        "train_loader = DataLoader(train_ds, batch_size=32, shuffle=True, collate_fn=collate_fn)\n",
        "test_loader = DataLoader(test_ds, batch_size=32, shuffle=False, collate_fn=collate_fn)\n"
      ],
      "metadata": {
        "id": "Qp6lwYC9EjPa"
      },
      "execution_count": 10,
      "outputs": []
    },
    {
      "cell_type": "code",
      "source": [
        "#LSTM Model\n",
        "class EmotionLSTM(nn.Module):\n",
        "    def __init__(self, vocab_size, emb_dim, hid_dim, num_classes, n_layers=1, bidirectional=True, dropout=0.5):\n",
        "        super().__init__()\n",
        "        self.embedding = nn.Embedding(vocab_size, emb_dim, padding_idx=0)\n",
        "        self.lstm = nn.LSTM(emb_dim, hid_dim, batch_first=True, num_layers=n_layers,\n",
        "                            bidirectional=bidirectional, dropout=dropout)\n",
        "        d = hid_dim * 2 if bidirectional else hid_dim\n",
        "        self.fc = nn.Linear(d, num_classes)\n",
        "    def forward(self, x):\n",
        "        emb = self.embedding(x)\n",
        "        _, (h_n, _) = self.lstm(emb)\n",
        "        if self.lstm.bidirectional:\n",
        "            h = torch.cat([h_n[-2], h_n[-1]], dim=-1)\n",
        "        else:\n",
        "            h = h_n[-1]\n",
        "        return self.fc(h)\n",
        "\n",
        "device = torch.device('cuda' if torch.cuda.is_available() else 'cpu')\n",
        "model = EmotionLSTM(vocab_size=VOCAB_SIZE, emb_dim=100, hid_dim=128, num_classes=num_classes).to(device)"
      ],
      "metadata": {
        "colab": {
          "base_uri": "https://localhost:8080/"
        },
        "id": "SZ4k3eDIEqLo",
        "outputId": "77b4da2a-c643-4a20-f35d-7ab0ecbe2161"
      },
      "execution_count": 11,
      "outputs": [
        {
          "output_type": "stream",
          "name": "stderr",
          "text": [
            "/usr/local/lib/python3.11/dist-packages/torch/nn/modules/rnn.py:123: UserWarning: dropout option adds dropout after all but last recurrent layer, so non-zero dropout expects num_layers greater than 1, but got dropout=0.5 and num_layers=1\n",
            "  warnings.warn(\n"
          ]
        }
      ]
    },
    {
      "cell_type": "code",
      "source": [
        "# 8. Train the Model\n",
        "optimizer = optim.Adam(model.parameters(), lr=0.001)\n",
        "criterion = nn.CrossEntropyLoss()\n",
        "\n",
        "epochs = 7\n",
        "for epoch in range(epochs):\n",
        "    model.train()\n",
        "    total_loss = 0\n",
        "    for x, y in tqdm(train_loader):\n",
        "        x, y = x.to(device), y.to(device)\n",
        "        optimizer.zero_grad()\n",
        "        output = model(x)\n",
        "        loss = criterion(output, y)\n",
        "        loss.backward()\n",
        "        optimizer.step()\n",
        "        total_loss += loss.item()\n",
        "    avg_loss = total_loss / len(train_loader)\n",
        "    print(f'Epoch {epoch+1} - Loss: {avg_loss:.4f}')\n",
        "\n",
        "#Accuracy and F1-score\n",
        "model.eval()\n",
        "all_preds, all_trues = [], []\n",
        "with torch.no_grad():\n",
        "    for x, y in test_loader:\n",
        "        x = x.to(device)\n",
        "        output = model(x)\n",
        "        preds = torch.argmax(output, dim=1).cpu().numpy()\n",
        "        all_preds.extend(preds)\n",
        "        all_trues.extend(y.numpy())\n",
        "\n",
        "accuracy = accuracy_score(all_trues, all_preds)\n",
        "f1 = f1_score(all_trues, all_preds, average='weighted')\n",
        "print(f'Accuracy: {accuracy:.3f}')\n",
        "print(f'F1 score: {f1:.3f}')"
      ],
      "metadata": {
        "colab": {
          "base_uri": "https://localhost:8080/"
        },
        "id": "0mu262TnE8w8",
        "outputId": "c1877f9e-bba9-4a4b-9d04-63be2c226128"
      },
      "execution_count": 12,
      "outputs": [
        {
          "output_type": "stream",
          "name": "stderr",
          "text": [
            "100%|██████████| 1000/1000 [01:26<00:00, 11.58it/s]\n"
          ]
        },
        {
          "output_type": "stream",
          "name": "stdout",
          "text": [
            "Epoch 1 - Loss: 2.0411\n"
          ]
        },
        {
          "output_type": "stream",
          "name": "stderr",
          "text": [
            "100%|██████████| 1000/1000 [01:27<00:00, 11.48it/s]\n"
          ]
        },
        {
          "output_type": "stream",
          "name": "stdout",
          "text": [
            "Epoch 2 - Loss: 1.8743\n"
          ]
        },
        {
          "output_type": "stream",
          "name": "stderr",
          "text": [
            "100%|██████████| 1000/1000 [01:27<00:00, 11.48it/s]\n"
          ]
        },
        {
          "output_type": "stream",
          "name": "stdout",
          "text": [
            "Epoch 3 - Loss: 1.7513\n"
          ]
        },
        {
          "output_type": "stream",
          "name": "stderr",
          "text": [
            "100%|██████████| 1000/1000 [01:27<00:00, 11.45it/s]\n"
          ]
        },
        {
          "output_type": "stream",
          "name": "stdout",
          "text": [
            "Epoch 4 - Loss: 1.6116\n"
          ]
        },
        {
          "output_type": "stream",
          "name": "stderr",
          "text": [
            "100%|██████████| 1000/1000 [01:27<00:00, 11.43it/s]\n"
          ]
        },
        {
          "output_type": "stream",
          "name": "stdout",
          "text": [
            "Epoch 5 - Loss: 1.4415\n"
          ]
        },
        {
          "output_type": "stream",
          "name": "stderr",
          "text": [
            "100%|██████████| 1000/1000 [01:27<00:00, 11.44it/s]\n"
          ]
        },
        {
          "output_type": "stream",
          "name": "stdout",
          "text": [
            "Epoch 6 - Loss: 1.2434\n"
          ]
        },
        {
          "output_type": "stream",
          "name": "stderr",
          "text": [
            "100%|██████████| 1000/1000 [01:27<00:00, 11.46it/s]\n"
          ]
        },
        {
          "output_type": "stream",
          "name": "stdout",
          "text": [
            "Epoch 7 - Loss: 1.0357\n",
            "Accuracy: 0.300\n",
            "F1 score: 0.288\n"
          ]
        }
      ]
    },
    {
      "cell_type": "code",
      "source": [
        "#Sample Predictions\n",
        "sample_indices = np.random.choice(len(test_ds), 5, replace=False)\n",
        "for idx in sample_indices:\n",
        "    text = test_df.iloc[idx]['content']\n",
        "    true = le.inverse_transform([test_df.iloc[idx]['emotion_label']])[0]\n",
        "\n",
        "# Predict\n",
        "    x_seq = torch.tensor(encode(text), dtype=torch.long).unsqueeze(0).to(device)\n",
        "    if x_seq.size(1) < MAXLEN:\n",
        "        pad = torch.zeros(1, MAXLEN - x_seq.size(1), dtype=torch.long).to(device)\n",
        "        x_padded = torch.cat([x_seq, pad], dim=1)\n",
        "    else:\n",
        "        x_padded = x_seq[:, :MAXLEN]\n",
        "    pred_idx = torch.argmax(model(x_padded)).item()\n",
        "    pred = le.inverse_transform([pred_idx])[0]\n",
        "    print(f\"Text: {text}\\nActual Emotion: {true}\\nPredicted Emotion: {pred}\\n{'-'*50}\")"
      ],
      "metadata": {
        "colab": {
          "base_uri": "https://localhost:8080/"
        },
        "id": "MDC_2TfXFAmk",
        "outputId": "c38e8b20-bdf6-47f9-e33b-f692af4447df"
      },
      "execution_count": 13,
      "outputs": [
        {
          "output_type": "stream",
          "name": "stdout",
          "text": [
            "Text: back from taking jarid to the airport  but looking forward to meeting my new nephew in 5 days.\n",
            "Actual Emotion: enthusiasm\n",
            "Predicted Emotion: worry\n",
            "--------------------------------------------------\n",
            "Text: y do i only have 2 people following me  people follow me please x\n",
            "Actual Emotion: worry\n",
            "Predicted Emotion: neutral\n",
            "--------------------------------------------------\n",
            "Text: @mmitchelldaviss It saddens me, you're youtube has changed. It's just like every other youtube kid, you used to be different\n",
            "Actual Emotion: worry\n",
            "Predicted Emotion: neutral\n",
            "--------------------------------------------------\n",
            "Text: @alliemunchkin :3, Youtube loves my HD videos  well maybe.\n",
            "Actual Emotion: happiness\n",
            "Predicted Emotion: surprise\n",
            "--------------------------------------------------\n",
            "Text: They took my property\n",
            "Actual Emotion: sadness\n",
            "Predicted Emotion: worry\n",
            "--------------------------------------------------\n"
          ]
        }
      ]
    },
    {
      "cell_type": "markdown",
      "source": [
        "Sometimes the model gets confused by subtle or mixed emotions, or it might not have seen enough similar examples during training. Tweets can also be tricky—they’re short, informal, and can mean different things depending on context, which the model can miss."
      ],
      "metadata": {
        "id": "qbKJ4eNrLqTw"
      }
    },
    {
      "cell_type": "code",
      "source": [],
      "metadata": {
        "id": "5oPbXIINLCKd"
      },
      "execution_count": null,
      "outputs": []
    }
  ]
}